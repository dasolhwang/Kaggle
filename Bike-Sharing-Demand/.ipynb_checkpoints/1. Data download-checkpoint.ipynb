{
 "cells": [
  {
   "cell_type": "markdown",
   "metadata": {},
   "source": [
    "## Kaggle-API\n",
    "\n",
    "캐글 공식 깃헙에 API가 있다. 해당 API를 사용하면 직접 캐글 사이트에 접속할 필요없이, 바로 노트북이나 터미널에서 받을 수 있다."
   ]
  },
  {
   "cell_type": "code",
   "execution_count": 1,
   "metadata": {},
   "outputs": [
    {
     "name": "stdout",
     "output_type": "stream",
     "text": [
      "Requirement already satisfied: kaggle in /anaconda3/lib/python3.6/site-packages (1.5.1.1)\n",
      "Requirement already satisfied: six>=1.10 in /anaconda3/lib/python3.6/site-packages (from kaggle) (1.11.0)\n",
      "Requirement already satisfied: python-slugify in /anaconda3/lib/python3.6/site-packages (from kaggle) (2.0.1)\n",
      "Requirement already satisfied: python-dateutil in /anaconda3/lib/python3.6/site-packages (from kaggle) (2.6.1)\n",
      "Requirement already satisfied: urllib3<1.23.0,>=1.15 in /anaconda3/lib/python3.6/site-packages (from kaggle) (1.22)\n",
      "Requirement already satisfied: tqdm in /anaconda3/lib/python3.6/site-packages (from kaggle) (4.27.0)\n",
      "Requirement already satisfied: certifi in /anaconda3/lib/python3.6/site-packages (from kaggle) (2018.1.18)\n",
      "Requirement already satisfied: requests in /anaconda3/lib/python3.6/site-packages (from kaggle) (2.19.1)\n",
      "Requirement already satisfied: Unidecode>=0.04.16 in /anaconda3/lib/python3.6/site-packages (from python-slugify->kaggle) (1.0.23)\n",
      "Requirement already satisfied: idna<2.8,>=2.5 in /anaconda3/lib/python3.6/site-packages (from requests->kaggle) (2.6)\n",
      "Requirement already satisfied: chardet<3.1.0,>=3.0.2 in /anaconda3/lib/python3.6/site-packages (from requests->kaggle) (3.0.4)\n"
     ]
    }
   ],
   "source": [
    "!pip install kaggle"
   ]
  },
  {
   "cell_type": "code",
   "execution_count": 2,
   "metadata": {},
   "outputs": [],
   "source": [
    "# 본인 캐글 계정으로 들어가서 Create API Token을 누르면\n",
    "# kaggle.json 을 다운받을 수 있다\n",
    "# ~/.kaggle 폴더를 만들고 해당 폴더에 kaggle.json을 옮긴다"
   ]
  },
  {
   "cell_type": "code",
   "execution_count": 3,
   "metadata": {},
   "outputs": [
    {
     "name": "stdout",
     "output_type": "stream",
     "text": [
      "ref                  deadline             category       reward  teamCount  userHasEntered  \r\n",
      "-------------------  -------------------  ----------  ---------  ---------  --------------  \r\n",
      "bike-sharing-demand  2015-05-29 23:59:00  Playground  Knowledge       3251            True  \r\n"
     ]
    }
   ],
   "source": [
    "# bike과 관련된 경진대회 리스트\n",
    "!kaggle competitions list -s bike"
   ]
  },
  {
   "cell_type": "code",
   "execution_count": 4,
   "metadata": {},
   "outputs": [
    {
     "name": "stdout",
     "output_type": "stream",
     "text": [
      "name                   size  creationDate         \r\n",
      "--------------------  -----  -------------------  \r\n",
      "train.csv             633KB  2014-05-28 19:02:45  \r\n",
      "sampleSubmission.csv  140KB  2014-05-28 19:02:45  \r\n",
      "test.csv              316KB  2014-05-28 19:02:45  \r\n"
     ]
    }
   ],
   "source": [
    "# bike-sharing-demand의 데이터셋 확인하기\n",
    "!kaggle competitions files -c bike-sharing-demand"
   ]
  },
  {
   "cell_type": "code",
   "execution_count": 5,
   "metadata": {},
   "outputs": [
    {
     "name": "stdout",
     "output_type": "stream",
     "text": [
      "train.csv: Skipping, found more recently modified local copy (use --force to force download)\n",
      "sampleSubmission.csv: Skipping, found more recently modified local copy (use --force to force download)\n",
      "test.csv: Skipping, found more recently modified local copy (use --force to force download)\n"
     ]
    }
   ],
   "source": [
    "# bike-sharing-demand의 데이터셋 다운로드하기\n",
    "!kaggle competitions download -c bike-sharing-demand"
   ]
  },
  {
   "cell_type": "code",
   "execution_count": 6,
   "metadata": {},
   "outputs": [
    {
     "name": "stdout",
     "output_type": "stream",
     "text": [
      "\u001b[34mBike-Sharing-Demand\u001b[m\u001b[m/ README.md\r\n"
     ]
    }
   ],
   "source": [
    "# 데이터셋 다운로드 확인하기\n",
    "%ls /Users/dasol/Desktop/Kaggle"
   ]
  }
 ],
 "metadata": {
  "kernelspec": {
   "display_name": "Python 3",
   "language": "python",
   "name": "python3"
  },
  "language_info": {
   "codemirror_mode": {
    "name": "ipython",
    "version": 3
   },
   "file_extension": ".py",
   "mimetype": "text/x-python",
   "name": "python",
   "nbconvert_exporter": "python",
   "pygments_lexer": "ipython3",
   "version": "3.6.4"
  }
 },
 "nbformat": 4,
 "nbformat_minor": 2
}
